{
 "cells": [
  {
   "cell_type": "markdown",
   "id": "3046c611-bace-4e41-ac99-d13415651e49",
   "metadata": {},
   "source": [
    "# Python Data Structures and Boolean\n",
    "- Boolean\n",
    "- Boolean and Logical Operators\n",
    "- Lists\n",
    "- Comparison Operators\n",
    "- Dictionaries\n",
    "- Tuples\n",
    "- Sets"
   ]
  },
  {
   "cell_type": "markdown",
   "id": "2398373d-2933-42ac-bc91-958c8e9ebc7c",
   "metadata": {},
   "source": [
    "# Boolean Variables\n",
    "\n",
    "Boolean variables are the two constant objects False and True.\n",
    "They are used to represent truth values (other values can also be considered false or true)\n",
    "In numeric constants (For exmaple, when used as the argument to an arithematic operator), they behave like the integers 0 and 1, respectively.\n",
    "The built-in function bool() can be used to cast any value to a Boolean, if the value can be interpreted as a truth value.\n",
    "They are written as True or False, respectively.\n",
    "\n"
   ]
  },
  {
   "cell_type": "code",
   "execution_count": 1,
   "id": "7da6bec4-e231-4b53-b231-e440145c7090",
   "metadata": {},
   "outputs": [
    {
     "data": {
      "text/plain": [
       "False"
      ]
     },
     "execution_count": 1,
     "metadata": {},
     "output_type": "execute_result"
    }
   ],
   "source": [
    "bool()"
   ]
  },
  {
   "cell_type": "code",
   "execution_count": 5,
   "id": "c314f492-071a-42d0-82b6-bdf98e2b6d00",
   "metadata": {},
   "outputs": [
    {
     "data": {
      "text/plain": [
       "bool"
      ]
     },
     "execution_count": 5,
     "metadata": {},
     "output_type": "execute_result"
    }
   ],
   "source": [
    "type(False)"
   ]
  },
  {
   "cell_type": "code",
   "execution_count": 3,
   "id": "b4b4e106-b3bd-424d-bf10-a54ee87e2405",
   "metadata": {},
   "outputs": [
    {
     "data": {
      "text/plain": [
       "bool"
      ]
     },
     "execution_count": 3,
     "metadata": {},
     "output_type": "execute_result"
    }
   ],
   "source": [
    "type(True)"
   ]
  },
  {
   "cell_type": "code",
   "execution_count": 16,
   "id": "2c6c7ffd-41b1-4bdb-b6fd-3a2bbe20c14d",
   "metadata": {},
   "outputs": [
    {
     "name": "stdout",
     "output_type": "stream",
     "text": [
      "True False\n"
     ]
    }
   ],
   "source": [
    "print(True, False)"
   ]
  },
  {
   "cell_type": "code",
   "execution_count": 29,
   "id": "4c6ede18-6da9-490e-86a0-c360a0c1664e",
   "metadata": {},
   "outputs": [],
   "source": [
    "my_str='My name is Faryal Tahseen Sadiq123'"
   ]
  },
  {
   "cell_type": "code",
   "execution_count": 30,
   "id": "96dea0bc-eb27-41ff-b6b2-b7759af1714c",
   "metadata": {},
   "outputs": [
    {
     "data": {
      "text/plain": [
       "False"
      ]
     },
     "execution_count": 30,
     "metadata": {},
     "output_type": "execute_result"
    }
   ],
   "source": [
    "my_str.isalpha()"
   ]
  },
  {
   "cell_type": "code",
   "execution_count": 31,
   "id": "5929116b-e310-4014-9147-26253b948adb",
   "metadata": {},
   "outputs": [
    {
     "data": {
      "text/plain": [
       "False"
      ]
     },
     "execution_count": 31,
     "metadata": {},
     "output_type": "execute_result"
    }
   ],
   "source": [
    "my_str.istitle()"
   ]
  },
  {
   "cell_type": "code",
   "execution_count": 32,
   "id": "7d2a42d6-82db-4589-84a0-1042f26b4b54",
   "metadata": {},
   "outputs": [
    {
     "name": "stdout",
     "output_type": "stream",
     "text": [
      "False\n"
     ]
    }
   ],
   "source": [
    "print(my_str.isalnum())"
   ]
  },
  {
   "cell_type": "code",
   "execution_count": 33,
   "id": "976c9113-f4c1-4930-9251-b52b3a8cfe7f",
   "metadata": {},
   "outputs": [
    {
     "name": "stdout",
     "output_type": "stream",
     "text": [
      "True\n"
     ]
    }
   ],
   "source": [
    "print(my_str.startswith('M'))"
   ]
  },
  {
   "cell_type": "code",
   "execution_count": 34,
   "id": "66cbf13f-2e3a-40f5-ad52-a4df3492d95e",
   "metadata": {},
   "outputs": [
    {
     "name": "stdout",
     "output_type": "stream",
     "text": [
      "True\n"
     ]
    }
   ],
   "source": [
    "print(my_str.endswith('3'))"
   ]
  },
  {
   "cell_type": "code",
   "execution_count": 35,
   "id": "d6aa16da-3e8d-47de-93e0-36a0771b2063",
   "metadata": {},
   "outputs": [
    {
     "name": "stdout",
     "output_type": "stream",
     "text": [
      "False\n"
     ]
    }
   ],
   "source": [
    "print(my_str.isspace())"
   ]
  },
  {
   "cell_type": "markdown",
   "id": "28ded178-101f-47b5-9115-928248f03a45",
   "metadata": {},
   "source": [
    "# Boolean and Logical Operators"
   ]
  },
  {
   "cell_type": "code",
   "execution_count": 36,
   "id": "f3c945c5-1b16-4462-9537-e1672e8b3f8f",
   "metadata": {},
   "outputs": [
    {
     "data": {
      "text/plain": [
       "True"
      ]
     },
     "execution_count": 36,
     "metadata": {},
     "output_type": "execute_result"
    }
   ],
   "source": [
    "True and True"
   ]
  },
  {
   "cell_type": "code",
   "execution_count": 38,
   "id": "bab4767b-6484-4b2d-878c-53d91d1464d7",
   "metadata": {},
   "outputs": [
    {
     "data": {
      "text/plain": [
       "False"
      ]
     },
     "execution_count": 38,
     "metadata": {},
     "output_type": "execute_result"
    }
   ],
   "source": [
    "True and False"
   ]
  },
  {
   "cell_type": "code",
   "execution_count": 39,
   "id": "7f6ac873-f248-4591-945f-cd2f8b605795",
   "metadata": {},
   "outputs": [
    {
     "data": {
      "text/plain": [
       "False"
      ]
     },
     "execution_count": 39,
     "metadata": {},
     "output_type": "execute_result"
    }
   ],
   "source": [
    "False and True"
   ]
  },
  {
   "cell_type": "code",
   "execution_count": 40,
   "id": "0098a68e-c8de-4336-8496-977916d905f2",
   "metadata": {},
   "outputs": [
    {
     "data": {
      "text/plain": [
       "False"
      ]
     },
     "execution_count": 40,
     "metadata": {},
     "output_type": "execute_result"
    }
   ],
   "source": [
    "False and False"
   ]
  },
  {
   "cell_type": "code",
   "execution_count": 41,
   "id": "5a1edddc-ff0b-4953-a06f-f74bb4564bff",
   "metadata": {},
   "outputs": [
    {
     "data": {
      "text/plain": [
       "True"
      ]
     },
     "execution_count": 41,
     "metadata": {},
     "output_type": "execute_result"
    }
   ],
   "source": [
    "True or True"
   ]
  },
  {
   "cell_type": "code",
   "execution_count": 42,
   "id": "cb1deb5a-6223-4a0b-ad15-179122523649",
   "metadata": {},
   "outputs": [
    {
     "data": {
      "text/plain": [
       "True"
      ]
     },
     "execution_count": 42,
     "metadata": {},
     "output_type": "execute_result"
    }
   ],
   "source": [
    "True or False"
   ]
  },
  {
   "cell_type": "code",
   "execution_count": 43,
   "id": "6c48ee58-1460-42a7-b3ab-dc605f3ff953",
   "metadata": {},
   "outputs": [
    {
     "data": {
      "text/plain": [
       "True"
      ]
     },
     "execution_count": 43,
     "metadata": {},
     "output_type": "execute_result"
    }
   ],
   "source": [
    "False or True"
   ]
  },
  {
   "cell_type": "code",
   "execution_count": 44,
   "id": "a9cda8d5-22b1-442a-8e94-01097d6de895",
   "metadata": {},
   "outputs": [
    {
     "data": {
      "text/plain": [
       "False"
      ]
     },
     "execution_count": 44,
     "metadata": {},
     "output_type": "execute_result"
    }
   ],
   "source": [
    "False or False"
   ]
  },
  {
   "cell_type": "code",
   "execution_count": 49,
   "id": "6c534ef6-00ae-4f94-bd45-951ccc56f9e6",
   "metadata": {},
   "outputs": [],
   "source": [
    "str_example='Hello World123'\n",
    "my_str='Faryal'"
   ]
  },
  {
   "cell_type": "code",
   "execution_count": 51,
   "id": "eeaca6f6-ca77-4951-849c-4a04f6353a44",
   "metadata": {},
   "outputs": [
    {
     "data": {
      "text/plain": [
       "True"
      ]
     },
     "execution_count": 51,
     "metadata": {},
     "output_type": "execute_result"
    }
   ],
   "source": [
    "my_str.isalpha() or str_example.isalnum()"
   ]
  },
  {
   "cell_type": "markdown",
   "id": "98b18bf4-b7de-47a7-93c9-7a82348dc5be",
   "metadata": {},
   "source": [
    "# Lists\n",
    "A list is a data structure in Python that is a muteable, changeable ordered sequence of elements. Each element or value that is inside of a list is called an item. Just as strings are defined as characters between quotes, lists are defined by having values between square brackets []."
   ]
  },
  {
   "cell_type": "code",
   "execution_count": 5,
   "id": "536f5f41-8845-415d-8a5e-ca3c82bdb24b",
   "metadata": {},
   "outputs": [
    {
     "data": {
      "text/plain": [
       "list"
      ]
     },
     "execution_count": 5,
     "metadata": {},
     "output_type": "execute_result"
    }
   ],
   "source": [
    "type([])"
   ]
  },
  {
   "cell_type": "code",
   "execution_count": 6,
   "id": "3ef8ff63-0b79-44a6-903d-0e8a4a3e333d",
   "metadata": {},
   "outputs": [],
   "source": [
    "lst_example=[]"
   ]
  },
  {
   "cell_type": "code",
   "execution_count": 7,
   "id": "3c0dcdec-f3da-4427-81e1-bc3d5ae7f250",
   "metadata": {},
   "outputs": [
    {
     "data": {
      "text/plain": [
       "list"
      ]
     },
     "execution_count": 7,
     "metadata": {},
     "output_type": "execute_result"
    }
   ],
   "source": [
    "type(lst_example)"
   ]
  },
  {
   "cell_type": "code",
   "execution_count": 2,
   "id": "21f1909c-0d21-4220-86b0-13459ba5ed11",
   "metadata": {},
   "outputs": [],
   "source": [
    "lst=list()"
   ]
  },
  {
   "cell_type": "code",
   "execution_count": 3,
   "id": "eeddfeef-8377-43ff-8517-b5302317a9f1",
   "metadata": {},
   "outputs": [
    {
     "data": {
      "text/plain": [
       "list"
      ]
     },
     "execution_count": 3,
     "metadata": {},
     "output_type": "execute_result"
    }
   ],
   "source": [
    "type(lst)"
   ]
  },
  {
   "cell_type": "code",
   "execution_count": 4,
   "id": "db088fa2-6d1c-4fa7-bb49-3ddadcd24a12",
   "metadata": {},
   "outputs": [],
   "source": [
    "lst=['Mathematics', 'Urdu', 'English', 100, 200, 300, 400]"
   ]
  },
  {
   "cell_type": "code",
   "execution_count": 5,
   "id": "eb45514b-d5e1-4783-bb32-855af619c056",
   "metadata": {},
   "outputs": [
    {
     "data": {
      "text/plain": [
       "7"
      ]
     },
     "execution_count": 5,
     "metadata": {},
     "output_type": "execute_result"
    }
   ],
   "source": [
    "len(lst)"
   ]
  },
  {
   "cell_type": "code",
   "execution_count": 6,
   "id": "a0b1ccda-3134-4a3f-b5ae-1eccaf8b7b0f",
   "metadata": {},
   "outputs": [
    {
     "name": "stdout",
     "output_type": "stream",
     "text": [
      "['Mathematics', 'Urdu', 'English', 100, 200, 300, 400]\n"
     ]
    }
   ],
   "source": [
    "print(lst)"
   ]
  },
  {
   "cell_type": "code",
   "execution_count": 7,
   "id": "fe7dd064-5708-45d0-8dd9-f4b5c02c5dae",
   "metadata": {},
   "outputs": [
    {
     "data": {
      "text/plain": [
       "list"
      ]
     },
     "execution_count": 7,
     "metadata": {},
     "output_type": "execute_result"
    }
   ],
   "source": [
    "type(lst)"
   ]
  },
  {
   "cell_type": "markdown",
   "id": "4aadf88b-7ae6-4c63-b617-6b65e9b748b9",
   "metadata": {},
   "source": [
    "# Append"
   ]
  },
  {
   "cell_type": "code",
   "execution_count": 8,
   "id": "b4757910-36be-4a7a-904b-c4d60808d9d5",
   "metadata": {},
   "outputs": [],
   "source": [
    "#.append is used to add elements in the list\n",
    "lst.append(\"Faryal\")"
   ]
  },
  {
   "cell_type": "code",
   "execution_count": 9,
   "id": "1e53dd36-b6b3-45ad-b778-b1c3526016ca",
   "metadata": {},
   "outputs": [],
   "source": [
    "lst.append([\"Jasim\", \"Amna\",\"Zuifshan\", \"Asma\", \"Murtaza\"])"
   ]
  },
  {
   "cell_type": "code",
   "execution_count": 10,
   "id": "5de9bdcb-4b4b-48e9-8f77-47b9455bc2b2",
   "metadata": {},
   "outputs": [
    {
     "data": {
      "text/plain": [
       "['Mathematics',\n",
       " 'Urdu',\n",
       " 'English',\n",
       " 100,\n",
       " 200,\n",
       " 300,\n",
       " 400,\n",
       " 'Faryal',\n",
       " ['Jasim', 'Amna', 'Zuifshan', 'Asma', 'Murtaza']]"
      ]
     },
     "execution_count": 10,
     "metadata": {},
     "output_type": "execute_result"
    }
   ],
   "source": [
    "lst"
   ]
  },
  {
   "cell_type": "code",
   "execution_count": 11,
   "id": "aaf427fa-734e-4ee2-bc11-4d2bc4812b60",
   "metadata": {},
   "outputs": [
    {
     "data": {
      "text/plain": [
       "200"
      ]
     },
     "execution_count": 11,
     "metadata": {},
     "output_type": "execute_result"
    }
   ],
   "source": [
    "#indexing in the list\n",
    "lst[4]"
   ]
  },
  {
   "cell_type": "code",
   "execution_count": 12,
   "id": "6a9822f9-0d4d-4e93-933a-c56da545d6a4",
   "metadata": {},
   "outputs": [
    {
     "data": {
      "text/plain": [
       "'Faryal'"
      ]
     },
     "execution_count": 12,
     "metadata": {},
     "output_type": "execute_result"
    }
   ],
   "source": [
    "lst[7]"
   ]
  },
  {
   "cell_type": "code",
   "execution_count": 13,
   "id": "d3813972-b24b-4838-a33b-88d78204750b",
   "metadata": {},
   "outputs": [
    {
     "data": {
      "text/plain": [
       "['Mathematics',\n",
       " 'Urdu',\n",
       " 'English',\n",
       " 100,\n",
       " 200,\n",
       " 300,\n",
       " 400,\n",
       " 'Faryal',\n",
       " ['Jasim', 'Amna', 'Zuifshan', 'Asma', 'Murtaza']]"
      ]
     },
     "execution_count": 13,
     "metadata": {},
     "output_type": "execute_result"
    }
   ],
   "source": [
    "lst[:]"
   ]
  },
  {
   "cell_type": "code",
   "execution_count": 14,
   "id": "b7417f1e-7a1b-4944-aa14-4eeeef94856f",
   "metadata": {},
   "outputs": [
    {
     "data": {
      "text/plain": [
       "[100,\n",
       " 200,\n",
       " 300,\n",
       " 400,\n",
       " 'Faryal',\n",
       " ['Jasim', 'Amna', 'Zuifshan', 'Asma', 'Murtaza']]"
      ]
     },
     "execution_count": 14,
     "metadata": {},
     "output_type": "execute_result"
    }
   ],
   "source": [
    "lst[3:]"
   ]
  },
  {
   "cell_type": "code",
   "execution_count": 15,
   "id": "9b6c24f8-4441-4559-b545-5f0afc1dff30",
   "metadata": {},
   "outputs": [
    {
     "data": {
      "text/plain": [
       "['Urdu', 'English', 100, 200]"
      ]
     },
     "execution_count": 15,
     "metadata": {},
     "output_type": "execute_result"
    }
   ],
   "source": [
    "lst[1:5]"
   ]
  },
  {
   "cell_type": "markdown",
   "id": "289fa3e4-c7fc-4bcc-b929-a328f027eb30",
   "metadata": {},
   "source": [
    "# Insert"
   ]
  },
  {
   "cell_type": "code",
   "execution_count": 16,
   "id": "af5df1af-1ad8-498f-a42d-afce3a9c63c4",
   "metadata": {},
   "outputs": [
    {
     "data": {
      "text/plain": [
       "9"
      ]
     },
     "execution_count": 16,
     "metadata": {},
     "output_type": "execute_result"
    }
   ],
   "source": [
    "len(lst)"
   ]
  },
  {
   "cell_type": "code",
   "execution_count": 17,
   "id": "1b31f1ab-a6b1-4ad6-a492-c868def07bdb",
   "metadata": {},
   "outputs": [],
   "source": [
    "# insert in a specific order\n",
    "lst.insert(8, \"Faryal\")"
   ]
  },
  {
   "cell_type": "code",
   "execution_count": 18,
   "id": "1b7c2edf-8bfd-42e7-9725-60172989ce7a",
   "metadata": {},
   "outputs": [
    {
     "data": {
      "text/plain": [
       "['Mathematics',\n",
       " 'Urdu',\n",
       " 'English',\n",
       " 100,\n",
       " 200,\n",
       " 300,\n",
       " 400,\n",
       " 'Faryal',\n",
       " 'Faryal',\n",
       " ['Jasim', 'Amna', 'Zuifshan', 'Asma', 'Murtaza']]"
      ]
     },
     "execution_count": 18,
     "metadata": {},
     "output_type": "execute_result"
    }
   ],
   "source": [
    "lst"
   ]
  },
  {
   "cell_type": "code",
   "execution_count": 19,
   "id": "4981328e-9da5-4358-ac3d-18e214ed8fc1",
   "metadata": {},
   "outputs": [],
   "source": [
    "lst.append([\"Murtaza\", \"Faryal\"])"
   ]
  },
  {
   "cell_type": "code",
   "execution_count": 20,
   "id": "cd1fa253-82e1-4c3a-b366-0512db82d1a6",
   "metadata": {},
   "outputs": [
    {
     "data": {
      "text/plain": [
       "['Mathematics',\n",
       " 'Urdu',\n",
       " 'English',\n",
       " 100,\n",
       " 200,\n",
       " 300,\n",
       " 400,\n",
       " 'Faryal',\n",
       " 'Faryal',\n",
       " ['Jasim', 'Amna', 'Zuifshan', 'Asma', 'Murtaza'],\n",
       " ['Murtaza', 'Faryal']]"
      ]
     },
     "execution_count": 20,
     "metadata": {},
     "output_type": "execute_result"
    }
   ],
   "source": [
    "lst"
   ]
  },
  {
   "cell_type": "code",
   "execution_count": 21,
   "id": "5c8eada7-fcec-4061-b839-977c8ec96587",
   "metadata": {},
   "outputs": [],
   "source": [
    "lst=[1,2,3]"
   ]
  },
  {
   "cell_type": "code",
   "execution_count": 24,
   "id": "6fda11e8-2748-4eac-ad02-66c610b83cba",
   "metadata": {},
   "outputs": [],
   "source": [
    "lst.append([4,5])"
   ]
  },
  {
   "cell_type": "code",
   "execution_count": 25,
   "id": "4e472d79-7f84-4dd4-8e3d-5fe836c1a991",
   "metadata": {},
   "outputs": [
    {
     "data": {
      "text/plain": [
       "[1, 2, 3, [4, 5]]"
      ]
     },
     "execution_count": 25,
     "metadata": {},
     "output_type": "execute_result"
    }
   ],
   "source": [
    "lst"
   ]
  },
  {
   "cell_type": "code",
   "execution_count": 26,
   "id": "a6b90fec-b648-4f0d-97e5-b9d9676188bd",
   "metadata": {},
   "outputs": [],
   "source": [
    "lst=[1,2,3,4,5,6]"
   ]
  },
  {
   "cell_type": "code",
   "execution_count": 27,
   "id": "9ae0486f-b75f-47c2-a252-8319160d08e2",
   "metadata": {},
   "outputs": [],
   "source": [
    "lst.extend([7,8])"
   ]
  },
  {
   "cell_type": "code",
   "execution_count": 28,
   "id": "306f1630-2b51-4402-a4f6-8f0a4f1c6e24",
   "metadata": {},
   "outputs": [
    {
     "data": {
      "text/plain": [
       "[1, 2, 3, 4, 5, 6, 7, 8]"
      ]
     },
     "execution_count": 28,
     "metadata": {},
     "output_type": "execute_result"
    }
   ],
   "source": [
    "lst"
   ]
  },
  {
   "cell_type": "markdown",
   "id": "84dc68b0-8f0f-425d-98af-7403b238765a",
   "metadata": {},
   "source": [
    "# Various operations that we can perform in lists"
   ]
  },
  {
   "cell_type": "code",
   "execution_count": 31,
   "id": "9dbd854c-2195-4a96-b7f4-ba5621223b84",
   "metadata": {},
   "outputs": [
    {
     "data": {
      "text/plain": [
       "36"
      ]
     },
     "execution_count": 31,
     "metadata": {},
     "output_type": "execute_result"
    }
   ],
   "source": [
    "sum(lst)"
   ]
  },
  {
   "cell_type": "code",
   "execution_count": 43,
   "id": "8eb7351a-e150-49b0-a61c-60a054f7032c",
   "metadata": {},
   "outputs": [],
   "source": [
    "list=[1,2,3,4,5,6,6,6,6,6,6,6,6,7,8,4,4,4,4,4,4,4,4,4,9,10,11,12]"
   ]
  },
  {
   "cell_type": "code",
   "execution_count": 44,
   "id": "d13bff00-24f1-4748-8b93-26bd8ed1cd28",
   "metadata": {},
   "outputs": [
    {
     "data": {
      "text/plain": [
       "156"
      ]
     },
     "execution_count": 44,
     "metadata": {},
     "output_type": "execute_result"
    }
   ],
   "source": [
    "sum(list)"
   ]
  },
  {
   "cell_type": "code",
   "execution_count": 67,
   "id": "a263f034-d595-452c-b45d-ce53185a86ee",
   "metadata": {},
   "outputs": [],
   "source": [
    "list=[1,2,3,4]"
   ]
  },
  {
   "cell_type": "code",
   "execution_count": 68,
   "id": "ba1c840c-79a1-4476-9949-fa8f65c18e80",
   "metadata": {},
   "outputs": [
    {
     "data": {
      "text/plain": [
       "[1, 2, 3, 4, 1, 2, 3, 4]"
      ]
     },
     "execution_count": 68,
     "metadata": {},
     "output_type": "execute_result"
    }
   ],
   "source": [
    "list*2"
   ]
  },
  {
   "cell_type": "markdown",
   "id": "d3ad64e0-ce71-46c6-aea4-b72aa42686f2",
   "metadata": {},
   "source": [
    "## Pop() Method"
   ]
  },
  {
   "cell_type": "code",
   "execution_count": 45,
   "id": "6eddc9c5-8380-4068-a3de-58f30e02bdc3",
   "metadata": {},
   "outputs": [
    {
     "data": {
      "text/plain": [
       "12"
      ]
     },
     "execution_count": 45,
     "metadata": {},
     "output_type": "execute_result"
    }
   ],
   "source": [
    "list.pop()"
   ]
  },
  {
   "cell_type": "code",
   "execution_count": 46,
   "id": "39a296f8-733c-4154-8e36-66fe8459a5ce",
   "metadata": {},
   "outputs": [
    {
     "data": {
      "text/plain": [
       "1"
      ]
     },
     "execution_count": 46,
     "metadata": {},
     "output_type": "execute_result"
    }
   ],
   "source": [
    "list.pop(0)"
   ]
  },
  {
   "cell_type": "code",
   "execution_count": 47,
   "id": "9edcc802-aa93-4e19-961a-c49e8755fdbc",
   "metadata": {},
   "outputs": [
    {
     "data": {
      "text/plain": [
       "5"
      ]
     },
     "execution_count": 47,
     "metadata": {},
     "output_type": "execute_result"
    }
   ],
   "source": [
    "list.pop(3)"
   ]
  },
  {
   "cell_type": "code",
   "execution_count": 48,
   "id": "4c1b6220-4539-4e50-930a-e823c47c1ba3",
   "metadata": {},
   "outputs": [
    {
     "data": {
      "text/plain": [
       "[2, 3, 4, 6, 6, 6, 6, 6, 6, 6, 6, 7, 8, 4, 4, 4, 4, 4, 4, 4, 4, 4, 9, 10, 11]"
      ]
     },
     "execution_count": 48,
     "metadata": {},
     "output_type": "execute_result"
    }
   ],
   "source": [
    "list"
   ]
  },
  {
   "cell_type": "markdown",
   "id": "2ae15afd-927e-47ce-bf50-78d5ac40c3f0",
   "metadata": {},
   "source": [
    "## count(): Calculates total occurance of given elements of list"
   ]
  },
  {
   "cell_type": "code",
   "execution_count": 49,
   "id": "e1993f2f-460e-4a46-b663-7d0cfa99fbb2",
   "metadata": {},
   "outputs": [
    {
     "data": {
      "text/plain": [
       "8"
      ]
     },
     "execution_count": 49,
     "metadata": {},
     "output_type": "execute_result"
    }
   ],
   "source": [
    "list.count(6)"
   ]
  },
  {
   "cell_type": "code",
   "execution_count": 50,
   "id": "410282b9-e42c-4b51-9633-12b321580e77",
   "metadata": {},
   "outputs": [
    {
     "data": {
      "text/plain": [
       "10"
      ]
     },
     "execution_count": 50,
     "metadata": {},
     "output_type": "execute_result"
    }
   ],
   "source": [
    "list.count(4)"
   ]
  },
  {
   "cell_type": "code",
   "execution_count": 51,
   "id": "18f404cf-b1b6-4873-bca1-33649b8f33a5",
   "metadata": {},
   "outputs": [],
   "source": [
    "#length: claculates total length of a given list"
   ]
  },
  {
   "cell_type": "code",
   "execution_count": 52,
   "id": "f42eb9cf-224b-4ee4-b3c2-8776a29c2141",
   "metadata": {},
   "outputs": [
    {
     "data": {
      "text/plain": [
       "25"
      ]
     },
     "execution_count": 52,
     "metadata": {},
     "output_type": "execute_result"
    }
   ],
   "source": [
    "len(list)"
   ]
  },
  {
   "cell_type": "code",
   "execution_count": 64,
   "id": "80d37305-1577-4bc2-ab3b-830d3e81671e",
   "metadata": {},
   "outputs": [
    {
     "data": {
      "text/plain": [
       "5"
      ]
     },
     "execution_count": 64,
     "metadata": {},
     "output_type": "execute_result"
    }
   ],
   "source": [
    "# index(): Returns the index of first occurance. Start and End index are not necessary parameters \n",
    "list.index(6,5,6)"
   ]
  },
  {
   "cell_type": "code",
   "execution_count": 62,
   "id": "242777fe-698d-4490-a5d1-54c394d26989",
   "metadata": {},
   "outputs": [
    {
     "data": {
      "text/plain": [
       "2"
      ]
     },
     "execution_count": 62,
     "metadata": {},
     "output_type": "execute_result"
    }
   ],
   "source": [
    "# Min and Max\n",
    "min(list)"
   ]
  },
  {
   "cell_type": "code",
   "execution_count": 65,
   "id": "b9df0555-ed68-4dec-a3d5-d691d33e33b3",
   "metadata": {},
   "outputs": [
    {
     "data": {
      "text/plain": [
       "11"
      ]
     },
     "execution_count": 65,
     "metadata": {},
     "output_type": "execute_result"
    }
   ],
   "source": [
    "max(list)"
   ]
  },
  {
   "cell_type": "code",
   "execution_count": null,
   "id": "1dd8590f-3e95-4dba-aeb5-a0ebfc169a0c",
   "metadata": {},
   "outputs": [],
   "source": []
  }
 ],
 "metadata": {
  "kernelspec": {
   "display_name": "Python 3 (ipykernel)",
   "language": "python",
   "name": "python3"
  },
  "language_info": {
   "codemirror_mode": {
    "name": "ipython",
    "version": 3
   },
   "file_extension": ".py",
   "mimetype": "text/x-python",
   "name": "python",
   "nbconvert_exporter": "python",
   "pygments_lexer": "ipython3",
   "version": "3.8.0"
  }
 },
 "nbformat": 4,
 "nbformat_minor": 5
}
