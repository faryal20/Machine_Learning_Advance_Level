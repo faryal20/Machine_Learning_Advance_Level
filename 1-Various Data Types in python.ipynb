{
 "cells": [
  {
   "cell_type": "markdown",
   "id": "44dd2f47-4a7b-436f-b7cc-0f7dbe99805a",
   "metadata": {},
   "source": [
    "# Python Tutorial\n",
    "## Welcome to Python series\n",
    "- Numbers"
   ]
  },
  {
   "cell_type": "code",
   "execution_count": 1,
   "id": "12010aa9-6b01-4104-945e-b688c64e2d27",
   "metadata": {},
   "outputs": [
    {
     "data": {
      "text/plain": [
       "2"
      ]
     },
     "execution_count": 1,
     "metadata": {},
     "output_type": "execute_result"
    }
   ],
   "source": [
    "1+1"
   ]
  },
  {
   "cell_type": "code",
   "execution_count": 2,
   "id": "c8bce66a-a41a-4a62-af9d-d815441de953",
   "metadata": {},
   "outputs": [
    {
     "data": {
      "text/plain": [
       "24"
      ]
     },
     "execution_count": 2,
     "metadata": {},
     "output_type": "execute_result"
    }
   ],
   "source": [
    "3*8"
   ]
  },
  {
   "cell_type": "code",
   "execution_count": 3,
   "id": "6cdbd447-05ef-4621-9906-a5a0f24bab19",
   "metadata": {},
   "outputs": [
    {
     "data": {
      "text/plain": [
       "4.0"
      ]
     },
     "execution_count": 3,
     "metadata": {},
     "output_type": "execute_result"
    }
   ],
   "source": [
    "8/2"
   ]
  },
  {
   "cell_type": "code",
   "execution_count": 4,
   "id": "e5a55877-55f0-44d9-882a-377273e870ed",
   "metadata": {},
   "outputs": [
    {
     "data": {
      "text/plain": [
       "333.3333333333333"
      ]
     },
     "execution_count": 4,
     "metadata": {},
     "output_type": "execute_result"
    }
   ],
   "source": [
    "1000/3"
   ]
  },
  {
   "cell_type": "code",
   "execution_count": 5,
   "id": "1b33f85c-648c-4d23-8549-229618613446",
   "metadata": {},
   "outputs": [
    {
     "data": {
      "text/plain": [
       "0"
      ]
     },
     "execution_count": 5,
     "metadata": {},
     "output_type": "execute_result"
    }
   ],
   "source": [
    "20%5"
   ]
  },
  {
   "cell_type": "code",
   "execution_count": 6,
   "id": "72376bd2-381d-4178-b848-63f2a2177d72",
   "metadata": {},
   "outputs": [
    {
     "data": {
      "text/plain": [
       "5"
      ]
     },
     "execution_count": 6,
     "metadata": {},
     "output_type": "execute_result"
    }
   ],
   "source": [
    "5%20"
   ]
  },
  {
   "cell_type": "code",
   "execution_count": 7,
   "id": "dd73339b-2744-40d7-8909-8b30ad045344",
   "metadata": {},
   "outputs": [
    {
     "data": {
      "text/plain": [
       "2"
      ]
     },
     "execution_count": 7,
     "metadata": {},
     "output_type": "execute_result"
    }
   ],
   "source": [
    "2%40"
   ]
  },
  {
   "cell_type": "code",
   "execution_count": 8,
   "id": "9df0b5da-0b34-4d43-b3b2-82778b6bc810",
   "metadata": {},
   "outputs": [
    {
     "data": {
      "text/plain": [
       "1000"
      ]
     },
     "execution_count": 8,
     "metadata": {},
     "output_type": "execute_result"
    }
   ],
   "source": [
    "10**3"
   ]
  },
  {
   "cell_type": "code",
   "execution_count": 9,
   "id": "bb5eae73-1874-4c30-becf-27873201586a",
   "metadata": {},
   "outputs": [
    {
     "data": {
      "text/plain": [
       "'strstrstrstrstrstrstrstrstrstr'"
      ]
     },
     "execution_count": 9,
     "metadata": {},
     "output_type": "execute_result"
    }
   ],
   "source": [
    "10 * 'str'"
   ]
  },
  {
   "cell_type": "code",
   "execution_count": 10,
   "id": "e9fba364-5e73-4ccf-ba33-bed5499f0a18",
   "metadata": {},
   "outputs": [
    {
     "data": {
      "text/plain": [
       "'strstrstrstrstrstrstrstrstrstrstrstrstrstrstrstrstrstrstrstrstrstrstrstrstrstrstrstrstrstrstrstrstrstrstrstrstrstrstrstrstrstrstrstrstrstrstrstrstrstrstrstrstrstrstrstrstrstrstrstrstrstrstrstrstrstrstrstrstrstrstrstrstrstrstrstrstrstrstrstrstrstrstrstrstrstrstrstrstrstrstrstrstrstrstrstrstrstrstrstr'"
      ]
     },
     "execution_count": 10,
     "metadata": {},
     "output_type": "execute_result"
    }
   ],
   "source": [
    "100 * 'str'"
   ]
  },
  {
   "cell_type": "code",
   "execution_count": 11,
   "id": "4bc67c6a-57c5-4e88-9fee-6998e81f5b3a",
   "metadata": {},
   "outputs": [
    {
     "data": {
      "text/plain": [
       "int"
      ]
     },
     "execution_count": 11,
     "metadata": {},
     "output_type": "execute_result"
    }
   ],
   "source": [
    "type(1)"
   ]
  },
  {
   "cell_type": "code",
   "execution_count": 13,
   "id": "b7732812-4ff5-48b6-80cd-92ef32c97734",
   "metadata": {},
   "outputs": [
    {
     "data": {
      "text/plain": [
       "bool"
      ]
     },
     "execution_count": 13,
     "metadata": {},
     "output_type": "execute_result"
    }
   ],
   "source": [
    "type(True)"
   ]
  },
  {
   "cell_type": "code",
   "execution_count": 15,
   "id": "b70c36f9-1a23-4fee-a679-eb0564e0d25a",
   "metadata": {},
   "outputs": [
    {
     "data": {
      "text/plain": [
       "bool"
      ]
     },
     "execution_count": 15,
     "metadata": {},
     "output_type": "execute_result"
    }
   ],
   "source": [
    "type(False)"
   ]
  },
  {
   "cell_type": "code",
   "execution_count": 16,
   "id": "81751e33-a72b-4e91-840a-fc3e917a81f0",
   "metadata": {},
   "outputs": [
    {
     "data": {
      "text/plain": [
       "float"
      ]
     },
     "execution_count": 16,
     "metadata": {},
     "output_type": "execute_result"
    }
   ],
   "source": [
    "type(0.45)"
   ]
  },
  {
   "cell_type": "markdown",
   "id": "3b853f82-0d14-4ce9-b7ca-4718b47a4778",
   "metadata": {},
   "source": [
    "## Strings"
   ]
  },
  {
   "cell_type": "code",
   "execution_count": 17,
   "id": "8477a76d-9e6e-490b-afb6-a00358d67451",
   "metadata": {},
   "outputs": [
    {
     "data": {
      "text/plain": [
       "str"
      ]
     },
     "execution_count": 17,
     "metadata": {},
     "output_type": "execute_result"
    }
   ],
   "source": [
    "type(\"HELLO\")"
   ]
  },
  {
   "cell_type": "code",
   "execution_count": 18,
   "id": "59502f6b-2d80-406c-a832-b80ff7884545",
   "metadata": {},
   "outputs": [
    {
     "data": {
      "text/plain": [
       "'HELLO'"
      ]
     },
     "execution_count": 18,
     "metadata": {},
     "output_type": "execute_result"
    }
   ],
   "source": [
    "'HELLO'"
   ]
  },
  {
   "cell_type": "code",
   "execution_count": 19,
   "id": "51f8d7f1-9b4b-442a-925b-06b29c9eb352",
   "metadata": {},
   "outputs": [
    {
     "data": {
      "text/plain": [
       "'FARYAL TAHSEEN SADIQ'"
      ]
     },
     "execution_count": 19,
     "metadata": {},
     "output_type": "execute_result"
    }
   ],
   "source": [
    "'FARYAL TAHSEEN SADIQ'"
   ]
  },
  {
   "cell_type": "code",
   "execution_count": 20,
   "id": "de8c224d-5905-43db-bc34-4e8134708909",
   "metadata": {},
   "outputs": [
    {
     "data": {
      "text/plain": [
       "str"
      ]
     },
     "execution_count": 20,
     "metadata": {},
     "output_type": "execute_result"
    }
   ],
   "source": [
    "type(\"FARYAL TAHSEEN SADIQ\")"
   ]
  },
  {
   "cell_type": "markdown",
   "id": "94c88d12-bd34-4a35-9991-8658f1239a02",
   "metadata": {},
   "source": [
    "## Variable Assignment"
   ]
  },
  {
   "cell_type": "code",
   "execution_count": 1,
   "id": "133c4561-ef77-4b4f-a66a-1a69a9677c69",
   "metadata": {},
   "outputs": [],
   "source": [
    "#syntax\n",
    "#var_names = values\n",
    "\n",
    "a=10"
   ]
  },
  {
   "cell_type": "code",
   "execution_count": 2,
   "id": "35ddd04a-be1f-48b6-9374-aa68beff35bc",
   "metadata": {},
   "outputs": [
    {
     "data": {
      "text/plain": [
       "int"
      ]
     },
     "execution_count": 2,
     "metadata": {},
     "output_type": "execute_result"
    }
   ],
   "source": [
    "type(a)"
   ]
  },
  {
   "cell_type": "code",
   "execution_count": 3,
   "id": "a59db84a-f791-42dc-9586-d039164976a9",
   "metadata": {},
   "outputs": [],
   "source": [
    "a=\"FARYAL TAHSEEN SADIQ\""
   ]
  },
  {
   "cell_type": "code",
   "execution_count": 4,
   "id": "beeafc38-ad77-419a-ba6a-26e3730fbc4e",
   "metadata": {},
   "outputs": [
    {
     "data": {
      "text/plain": [
       "str"
      ]
     },
     "execution_count": 4,
     "metadata": {},
     "output_type": "execute_result"
    }
   ],
   "source": [
    "type(a)"
   ]
  },
  {
   "cell_type": "code",
   "execution_count": 5,
   "id": "a79a1b59-b1cb-403a-895f-22fc3ddc95df",
   "metadata": {},
   "outputs": [],
   "source": [
    "# Mathematical operations of variable Assignments\n",
    "\n",
    "a=10\n",
    "b=20"
   ]
  },
  {
   "cell_type": "code",
   "execution_count": 11,
   "id": "467c6a23-44a8-455c-96b5-dcf0fbfc229c",
   "metadata": {},
   "outputs": [
    {
     "name": "stdout",
     "output_type": "stream",
     "text": [
      "30\n",
      "-10\n",
      "0.5\n",
      "10\n",
      "10\n",
      "200.5\n"
     ]
    }
   ],
   "source": [
    "print(a+b)\n",
    "print(a-b)\n",
    "print(a/b)\n",
    "print(b-a)\n",
    "print(a%b)\n",
    "print((a*b)+(a/b)) #BODMAS {Brackets Of Division Multiplication Addition Subtraction"
   ]
  },
  {
   "cell_type": "code",
   "execution_count": 12,
   "id": "4ad4bbb5-06f8-43ad-8e80-6cdd7b1f9456",
   "metadata": {},
   "outputs": [
    {
     "name": "stdout",
     "output_type": "stream",
     "text": [
      "Hello\n"
     ]
    }
   ],
   "source": [
    "# various ways of printing\n",
    "print(\"Hello\")"
   ]
  },
  {
   "cell_type": "code",
   "execution_count": 9,
   "id": "e1f0b9b9-6488-4590-a2e7-d5d904b2e096",
   "metadata": {},
   "outputs": [],
   "source": [
    "first_name='Faryal'\n",
    "last_name='Sadiq'"
   ]
  },
  {
   "cell_type": "code",
   "execution_count": 10,
   "id": "c434c5e0-f8f5-486c-8b2b-f285c6c7ae5a",
   "metadata": {},
   "outputs": [
    {
     "name": "stdout",
     "output_type": "stream",
     "text": [
      "My first name is Faryal and last name is Sadiq\n"
     ]
    }
   ],
   "source": [
    "print(\"My first name is {} and last name is {}\".format(first_name,last_name))"
   ]
  },
  {
   "cell_type": "code",
   "execution_count": 11,
   "id": "78e9529a-b69a-4e47-91f0-a8587980b33f",
   "metadata": {},
   "outputs": [
    {
     "name": "stdout",
     "output_type": "stream",
     "text": [
      "My fist name is Faryal and last name is Sadiq\n"
     ]
    }
   ],
   "source": [
    "print(\"My fist name is {first} and last name is {last}\".format(first=first_name, last=last_name))"
   ]
  },
  {
   "cell_type": "code",
   "execution_count": 12,
   "id": "2998faf1-802e-4cda-b80a-619719ac7361",
   "metadata": {},
   "outputs": [
    {
     "data": {
      "text/plain": [
       "6"
      ]
     },
     "execution_count": 12,
     "metadata": {},
     "output_type": "execute_result"
    }
   ],
   "source": [
    "len('faryal')"
   ]
  },
  {
   "cell_type": "code",
   "execution_count": 13,
   "id": "89949e94-984b-4334-90c4-472125e9c606",
   "metadata": {},
   "outputs": [
    {
     "data": {
      "text/plain": [
       "str"
      ]
     },
     "execution_count": 13,
     "metadata": {},
     "output_type": "execute_result"
    }
   ],
   "source": [
    "type('faryal')"
   ]
  },
  {
   "cell_type": "code",
   "execution_count": 17,
   "id": "c07810e7-57c3-4049-8c41-fa40c49cb49a",
   "metadata": {},
   "outputs": [
    {
     "data": {
      "text/plain": [
       "list"
      ]
     },
     "execution_count": 17,
     "metadata": {},
     "output_type": "execute_result"
    }
   ],
   "source": [
    "type(['1',2,3,4,5])"
   ]
  }
 ],
 "metadata": {
  "kernelspec": {
   "display_name": "Python 3 (ipykernel)",
   "language": "python",
   "name": "python3"
  },
  "language_info": {
   "codemirror_mode": {
    "name": "ipython",
    "version": 3
   },
   "file_extension": ".py",
   "mimetype": "text/x-python",
   "name": "python",
   "nbconvert_exporter": "python",
   "pygments_lexer": "ipython3",
   "version": "3.8.0"
  }
 },
 "nbformat": 4,
 "nbformat_minor": 5
}
