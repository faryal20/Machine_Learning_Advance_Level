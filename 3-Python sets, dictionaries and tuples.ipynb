{
 "cells": [
  {
   "cell_type": "markdown",
   "id": "abd3e3d7-c3b3-4395-a73b-d416c4c7275b",
   "metadata": {},
   "source": [
    "# Sets\n",
    "A set is an unordered collection data type that is iterable, muteable and has no duplicate elemnents. Python's set class represents the mathematical notion of a set. This is based on a data structure known as a hash table."
   ]
  },
  {
   "cell_type": "code",
   "execution_count": 20,
   "id": "d3936a81-cb49-49dd-b94a-e94174e837ea",
   "metadata": {},
   "outputs": [
    {
     "name": "stdout",
     "output_type": "stream",
     "text": [
      "set()\n",
      "<class 'set'>\n"
     ]
    }
   ],
   "source": [
    "# Definning an empty set\n",
    "var_set=set()\n",
    "print(var_set)\n",
    "print(type(var_set))"
   ]
  },
  {
   "cell_type": "code",
   "execution_count": 21,
   "id": "d3fb6c43-057a-49f3-b371-cc92b73f69b0",
   "metadata": {},
   "outputs": [],
   "source": [
    "set_var={1,2,3,4,3,4}"
   ]
  },
  {
   "cell_type": "code",
   "execution_count": 22,
   "id": "83de326e-f2d3-4761-a1b8-f52bd7311bcf",
   "metadata": {},
   "outputs": [
    {
     "data": {
      "text/plain": [
       "{1, 2, 3, 4}"
      ]
     },
     "execution_count": 22,
     "metadata": {},
     "output_type": "execute_result"
    }
   ],
   "source": [
    "set_var"
   ]
  },
  {
   "cell_type": "code",
   "execution_count": 23,
   "id": "a231159e-44ee-48e9-8401-5593c0dcedd5",
   "metadata": {},
   "outputs": [],
   "source": [
    "set_var={\"Avangers\", \"Ironman\", \"Badman\", \"superman\"}"
   ]
  },
  {
   "cell_type": "code",
   "execution_count": 24,
   "id": "925c0f97-9004-4599-80cf-0e3f851325e8",
   "metadata": {},
   "outputs": [
    {
     "name": "stdout",
     "output_type": "stream",
     "text": [
      "{'Avangers', 'Badman', 'superman', 'Ironman'}\n",
      "<class 'set'>\n"
     ]
    }
   ],
   "source": [
    "print(set_var)\n",
    "print(type(set_var))"
   ]
  },
  {
   "cell_type": "code",
   "execution_count": 25,
   "id": "f881e2d8-155c-49a4-b69c-1c38a3e76e59",
   "metadata": {},
   "outputs": [],
   "source": [
    "# indexing.......There is no indexing in the sets\n",
    "set_var=[\"Avangers\"]"
   ]
  },
  {
   "cell_type": "code",
   "execution_count": 29,
   "id": "9b24431e-db8e-4cb5-912b-f90fb3a586f1",
   "metadata": {},
   "outputs": [
    {
     "ename": "AttributeError",
     "evalue": "'list' object has no attribute 'add'",
     "output_type": "error",
     "traceback": [
      "\u001b[1;31m---------------------------------------------------------------------------\u001b[0m",
      "\u001b[1;31mAttributeError\u001b[0m                            Traceback (most recent call last)",
      "Cell \u001b[1;32mIn[29], line 2\u001b[0m\n\u001b[0;32m      1\u001b[0m \u001b[38;5;66;03m# in-built functions to the sets\u001b[39;00m\n\u001b[1;32m----> 2\u001b[0m \u001b[43mset_var\u001b[49m\u001b[38;5;241;43m.\u001b[39;49m\u001b[43madd\u001b[49m(\u001b[38;5;124m\"\u001b[39m\u001b[38;5;124mHulk\u001b[39m\u001b[38;5;124m\"\u001b[39m)\n",
      "\u001b[1;31mAttributeError\u001b[0m: 'list' object has no attribute 'add'"
     ]
    }
   ],
   "source": [
    "# in-built functions to the sets\n",
    "set_var.add(\"Hulk\")"
   ]
  },
  {
   "cell_type": "code",
   "execution_count": 34,
   "id": "64bd95cc-ef8e-428f-a170-81e65461886f",
   "metadata": {},
   "outputs": [],
   "source": [
    "set1={\"Batman\",\"Spiderman\", \"Hulk\", \"Ironman\", \"Avanger\"}\n",
    "set2={\"Batman\", \"Spiderman\", \"Hulk\", \"Ironman\", \"Avengar\", \"Hulk2\", \"Batman2\"}"
   ]
  },
  {
   "cell_type": "code",
   "execution_count": 36,
   "id": "08f94bc5-1b70-446d-aa86-b4d27bb6816a",
   "metadata": {},
   "outputs": [
    {
     "data": {
      "text/plain": [
       "{'Batman', 'Hulk', 'Ironman', 'Spiderman'}"
      ]
     },
     "execution_count": 36,
     "metadata": {},
     "output_type": "execute_result"
    }
   ],
   "source": [
    "set2.intersection(set1)"
   ]
  },
  {
   "cell_type": "code",
   "execution_count": 37,
   "id": "a6e77c43-6be1-4e22-a464-faec2cc7a941",
   "metadata": {},
   "outputs": [],
   "source": [
    "set2.intersection_update(set1)"
   ]
  },
  {
   "cell_type": "code",
   "execution_count": 38,
   "id": "88ce8fd3-c983-42f8-b881-b099a10221e6",
   "metadata": {},
   "outputs": [
    {
     "data": {
      "text/plain": [
       "{'Batman', 'Hulk', 'Ironman', 'Spiderman'}"
      ]
     },
     "execution_count": 38,
     "metadata": {},
     "output_type": "execute_result"
    }
   ],
   "source": [
    "set2"
   ]
  },
  {
   "cell_type": "code",
   "execution_count": 42,
   "id": "2b0b30a3-34b1-4997-9ea9-3ebc5c289280",
   "metadata": {},
   "outputs": [
    {
     "data": {
      "text/plain": [
       "{'Avanger'}"
      ]
     },
     "execution_count": 42,
     "metadata": {},
     "output_type": "execute_result"
    }
   ],
   "source": [
    "## Difference\n",
    "set1.difference(set2)"
   ]
  },
  {
   "cell_type": "code",
   "execution_count": 43,
   "id": "3a0c3cc2-1a76-44f6-a814-9a42e5a9a519",
   "metadata": {},
   "outputs": [
    {
     "data": {
      "text/plain": [
       "{'Batman', 'Hulk', 'Ironman', 'Spiderman'}"
      ]
     },
     "execution_count": 43,
     "metadata": {},
     "output_type": "execute_result"
    }
   ],
   "source": [
    "set2"
   ]
  },
  {
   "cell_type": "markdown",
   "id": "675e1bad-e13d-4fff-8742-cd95a4ec52aa",
   "metadata": {},
   "source": [
    "# Dictionaries\n",
    "A dictionary is a collection which is unordered, changeable and indexed. In Python dictionaries are written with curely brackets, and they have keys and values."
   ]
  },
  {
   "cell_type": "code",
   "execution_count": 44,
   "id": "d770501f-0a54-47e2-83ec-68e9da464c6a",
   "metadata": {},
   "outputs": [],
   "source": [
    "dic={}"
   ]
  },
  {
   "cell_type": "code",
   "execution_count": 45,
   "id": "2327e4f8-39ea-4a9c-906e-75b4d6641118",
   "metadata": {},
   "outputs": [
    {
     "data": {
      "text/plain": [
       "dict"
      ]
     },
     "execution_count": 45,
     "metadata": {},
     "output_type": "execute_result"
    }
   ],
   "source": [
    "type(dic)"
   ]
  },
  {
   "cell_type": "code",
   "execution_count": 46,
   "id": "eb444b39-9c73-4d3e-a06f-56e754bad078",
   "metadata": {},
   "outputs": [],
   "source": [
    "dic={1,2,3,4,5,6,7}"
   ]
  },
  {
   "cell_type": "code",
   "execution_count": 47,
   "id": "ca94f53a-3d2e-4506-ba91-d439ee89a50f",
   "metadata": {},
   "outputs": [
    {
     "data": {
      "text/plain": [
       "set"
      ]
     },
     "execution_count": 47,
     "metadata": {},
     "output_type": "execute_result"
    }
   ],
   "source": [
    "type(dic)"
   ]
  },
  {
   "cell_type": "code",
   "execution_count": 2,
   "id": "89a6ba4c-c849-4579-ba19-74cb03335d86",
   "metadata": {},
   "outputs": [],
   "source": [
    "## Let create a dictionary \n",
    "my_dict={\"car1\": \"Audi\", \"car2\": \"BMW\", \"car3\": \"Mercedes Benz\"}"
   ]
  },
  {
   "cell_type": "code",
   "execution_count": 3,
   "id": "f65a56b8-f796-4a69-b653-e5fe7f897a8d",
   "metadata": {},
   "outputs": [
    {
     "name": "stdout",
     "output_type": "stream",
     "text": [
      "{'car1': 'Audi', 'car2': 'BMW', 'car3': 'Mercedes Benz'}\n"
     ]
    }
   ],
   "source": [
    "print(my_dict)"
   ]
  },
  {
   "cell_type": "code",
   "execution_count": 4,
   "id": "af8e7c38-5a30-4a42-a23c-863aba5bd713",
   "metadata": {},
   "outputs": [
    {
     "data": {
      "text/plain": [
       "dict"
      ]
     },
     "execution_count": 4,
     "metadata": {},
     "output_type": "execute_result"
    }
   ],
   "source": [
    "type(my_dict)"
   ]
  },
  {
   "cell_type": "code",
   "execution_count": 5,
   "id": "a543d944-b2c6-4635-8d93-62b5eeb29a7c",
   "metadata": {},
   "outputs": [
    {
     "data": {
      "text/plain": [
       "'Mercedes Benz'"
      ]
     },
     "execution_count": 5,
     "metadata": {},
     "output_type": "execute_result"
    }
   ],
   "source": [
    "## Access the item values based on keys\n",
    "my_dict['car3']"
   ]
  },
  {
   "cell_type": "code",
   "execution_count": 7,
   "id": "162b9fad-88c9-48d5-b7d2-6099b3981bf6",
   "metadata": {},
   "outputs": [
    {
     "data": {
      "text/plain": [
       "dict"
      ]
     },
     "execution_count": 7,
     "metadata": {},
     "output_type": "execute_result"
    }
   ],
   "source": [
    "type(my_dict)"
   ]
  },
  {
   "cell_type": "code",
   "execution_count": 8,
   "id": "3302dd82-9ec5-476a-a74c-f91d104741ea",
   "metadata": {},
   "outputs": [
    {
     "data": {
      "text/plain": [
       "'BMW'"
      ]
     },
     "execution_count": 8,
     "metadata": {},
     "output_type": "execute_result"
    }
   ],
   "source": [
    "my_dict['car2']"
   ]
  },
  {
   "cell_type": "code",
   "execution_count": 9,
   "id": "ee654337-9d48-4b75-add8-45fdf94012ca",
   "metadata": {},
   "outputs": [
    {
     "name": "stdout",
     "output_type": "stream",
     "text": [
      "car1\n",
      "car2\n",
      "car3\n"
     ]
    }
   ],
   "source": [
    "## we can even loop throughout the keys and values \n",
    "for x in my_dict:\n",
    "    print(x)"
   ]
  },
  {
   "cell_type": "code",
   "execution_count": 11,
   "id": "7d1b69ef-fd50-41f9-8b9e-9066080ca215",
   "metadata": {},
   "outputs": [
    {
     "name": "stdout",
     "output_type": "stream",
     "text": [
      "Audi\n",
      "BMW\n",
      "Mercedes Benz\n"
     ]
    }
   ],
   "source": [
    "# we can even loop throughout the dictionaries values\n",
    "for x in my_dict.values():\n",
    "    print(x)"
   ]
  },
  {
   "cell_type": "code",
   "execution_count": 13,
   "id": "07625db6-6148-400d-8625-9cde40e59e28",
   "metadata": {},
   "outputs": [
    {
     "name": "stdout",
     "output_type": "stream",
     "text": [
      "('car1', 'Audi')\n",
      "('car2', 'BMW')\n",
      "('car3', 'Mercedes Benz')\n"
     ]
    }
   ],
   "source": [
    "# we can also check both keys and values\n",
    "for x in my_dict.items():\n",
    "    print(x)"
   ]
  },
  {
   "cell_type": "code",
   "execution_count": 22,
   "id": "30fa2964-0a0f-4a76-a705-0c233edbced9",
   "metadata": {},
   "outputs": [],
   "source": [
    "# Adding new items in dictionaries\n",
    "my_dict['Car4']=\"Audi 2.4\""
   ]
  },
  {
   "cell_type": "code",
   "execution_count": 23,
   "id": "81086702-a94b-4221-931e-522ae6b87830",
   "metadata": {},
   "outputs": [
    {
     "name": "stdout",
     "output_type": "stream",
     "text": [
      "{'car1': 'Audi', 'car2': 'BMW', 'car3': 'Mercedes Benz', 'Car4': 'Audi 2.4', 'Car1': 'Honda city202'}\n"
     ]
    }
   ],
   "source": [
    "print(my_dict)"
   ]
  },
  {
   "cell_type": "code",
   "execution_count": 24,
   "id": "b4ce10f3-aad0-492c-b397-4f9262c3e4c7",
   "metadata": {},
   "outputs": [],
   "source": [
    "my_dict['car1']=\"Honda city202\""
   ]
  },
  {
   "cell_type": "code",
   "execution_count": 25,
   "id": "030555ad-7cf3-4700-8883-fbe100e1e63a",
   "metadata": {},
   "outputs": [
    {
     "data": {
      "text/plain": [
       "{'car1': 'Honda city202',\n",
       " 'car2': 'BMW',\n",
       " 'car3': 'Mercedes Benz',\n",
       " 'Car4': 'Audi 2.4',\n",
       " 'Car1': 'Honda city202'}"
      ]
     },
     "execution_count": 25,
     "metadata": {},
     "output_type": "execute_result"
    }
   ],
   "source": [
    "my_dict"
   ]
  },
  {
   "cell_type": "markdown",
   "id": "c210c490-50f2-4949-9fba-87345dd366b9",
   "metadata": {},
   "source": [
    "## Nested Dictionary"
   ]
  },
  {
   "cell_type": "code",
   "execution_count": 27,
   "id": "04e2a15d-d9d9-4e0b-9caa-4c602005adc1",
   "metadata": {},
   "outputs": [],
   "source": [
    "car1_model={'Mercedez-Benz': 1980}\n",
    "car2_model={\"Audi\": 1990}\n",
    "car3_model={\"BMW\": 2000}\n",
    "car4_model={\"Jaguar\": 2010}"
   ]
  },
  {
   "cell_type": "code",
   "execution_count": 28,
   "id": "eab80ff5-d3d1-41a0-8b8f-6025eb37fe2b",
   "metadata": {},
   "outputs": [],
   "source": [
    "Car_type={'car1': car1_model, 'car2': car2_model, 'car3': car3_model, 'car4': car4_model}"
   ]
  },
  {
   "cell_type": "code",
   "execution_count": 29,
   "id": "09da91f8-412e-4c41-b745-10bdeda65435",
   "metadata": {},
   "outputs": [
    {
     "name": "stdout",
     "output_type": "stream",
     "text": [
      "{'car1': {'Mercedez-Benz': '1980'}, 'car2': {'Audi': '1990'}, 'car3': {'BMW': '2000'}, 'car4': {'Jaguar': '2010'}}\n"
     ]
    }
   ],
   "source": [
    "print(Car_type)"
   ]
  },
  {
   "cell_type": "code",
   "execution_count": 30,
   "id": "9cfb2f5d-d6d5-45c1-8abb-08ab6bb0b5aa",
   "metadata": {},
   "outputs": [
    {
     "data": {
      "text/plain": [
       "{'car1': {'Mercedez-Benz': '1980'},\n",
       " 'car2': {'Audi': '1990'},\n",
       " 'car3': {'BMW': '2000'},\n",
       " 'car4': {'Jaguar': '2010'}}"
      ]
     },
     "execution_count": 30,
     "metadata": {},
     "output_type": "execute_result"
    }
   ],
   "source": [
    "(Car_type)"
   ]
  },
  {
   "cell_type": "code",
   "execution_count": 31,
   "id": "a233532e-02fd-4655-b45c-134c721e93cb",
   "metadata": {},
   "outputs": [
    {
     "name": "stdout",
     "output_type": "stream",
     "text": [
      "{'Jaguar': '2010'}\n"
     ]
    }
   ],
   "source": [
    "print(Car_type['car4'])"
   ]
  },
  {
   "cell_type": "code",
   "execution_count": 33,
   "id": "5b175dba-e0a1-41cb-a4af-dbab990b91e0",
   "metadata": {},
   "outputs": [
    {
     "name": "stdout",
     "output_type": "stream",
     "text": [
      "2010\n"
     ]
    }
   ],
   "source": [
    "print(Car_type['car4']['Jaguar'])"
   ]
  },
  {
   "cell_type": "markdown",
   "id": "06bae512-4173-49b4-ab22-749a1de51b04",
   "metadata": {},
   "source": [
    "## Tuples\n",
    "- Tuples cannot be changeable once you declared you cant mute it or change it."
   ]
  },
  {
   "cell_type": "code",
   "execution_count": 34,
   "id": "b27d4539-96a4-481e-a3e8-1f497245f4a6",
   "metadata": {},
   "outputs": [],
   "source": [
    "my_tuple=tuple()"
   ]
  },
  {
   "cell_type": "code",
   "execution_count": 35,
   "id": "f01c8187-261d-4c37-ba8f-5369dd6c8d12",
   "metadata": {},
   "outputs": [
    {
     "data": {
      "text/plain": [
       "tuple"
      ]
     },
     "execution_count": 35,
     "metadata": {},
     "output_type": "execute_result"
    }
   ],
   "source": [
    "type(my_tuple)"
   ]
  },
  {
   "cell_type": "code",
   "execution_count": 36,
   "id": "ea7b3724-600b-4e6e-994d-8f02125df07c",
   "metadata": {},
   "outputs": [],
   "source": [
    "my_tuple=()"
   ]
  },
  {
   "cell_type": "code",
   "execution_count": 37,
   "id": "babc5432-f66e-4d3a-a4e1-9804a0a0219d",
   "metadata": {},
   "outputs": [
    {
     "data": {
      "text/plain": [
       "tuple"
      ]
     },
     "execution_count": 37,
     "metadata": {},
     "output_type": "execute_result"
    }
   ],
   "source": [
    "type(my_tuple)"
   ]
  },
  {
   "cell_type": "code",
   "execution_count": 55,
   "id": "d046bbd0-710e-49df-94fe-6e986bccf0f3",
   "metadata": {},
   "outputs": [],
   "source": [
    "my_tuple=(\"Faryal\", \"Murtaza\", \"Jerry\")"
   ]
  },
  {
   "cell_type": "code",
   "execution_count": 45,
   "id": "ee728046-b386-40a8-8de3-10532e9d7426",
   "metadata": {},
   "outputs": [
    {
     "data": {
      "text/plain": [
       "'Murtaza'"
      ]
     },
     "execution_count": 45,
     "metadata": {},
     "output_type": "execute_result"
    }
   ],
   "source": [
    "my_tuple[1]"
   ]
  },
  {
   "cell_type": "code",
   "execution_count": 46,
   "id": "3a0443c7-022e-4501-8186-3cb586bbff6e",
   "metadata": {},
   "outputs": [
    {
     "name": "stdout",
     "output_type": "stream",
     "text": [
      "<class 'tuple'>\n",
      "('Faryal', 'Murtaza', 'Jerry')\n"
     ]
    }
   ],
   "source": [
    "print(type(my_tuple))\n",
    "print(my_tuple)"
   ]
  },
  {
   "cell_type": "code",
   "execution_count": 47,
   "id": "8791c120-0f85-471d-8823-a252579c01d7",
   "metadata": {},
   "outputs": [
    {
     "ename": "TypeError",
     "evalue": "'tuple' object does not support item assignment",
     "output_type": "error",
     "traceback": [
      "\u001b[1;31m---------------------------------------------------------------------------\u001b[0m",
      "\u001b[1;31mTypeError\u001b[0m                                 Traceback (most recent call last)",
      "Cell \u001b[1;32mIn[47], line 1\u001b[0m\n\u001b[1;32m----> 1\u001b[0m my_tuple[\u001b[38;5;241m1\u001b[39m]\u001b[38;5;241m=\u001b[39m\u001b[38;5;124m\"\u001b[39m\u001b[38;5;124mJasim\u001b[39m\u001b[38;5;124m\"\u001b[39m\n",
      "\u001b[1;31mTypeError\u001b[0m: 'tuple' object does not support item assignment"
     ]
    }
   ],
   "source": [
    "my_tuple[1]=\"Jasim\""
   ]
  },
  {
   "cell_type": "code",
   "execution_count": 48,
   "id": "994a7170-efb3-4675-888c-4935a0127130",
   "metadata": {},
   "outputs": [],
   "source": [
    "my_tuple=('Hello','World')"
   ]
  },
  {
   "cell_type": "code",
   "execution_count": 49,
   "id": "6393a429-2986-4f48-a340-42c9d85cc8c9",
   "metadata": {},
   "outputs": [
    {
     "name": "stdout",
     "output_type": "stream",
     "text": [
      "<class 'tuple'>\n",
      "('Hello', 'World')\n"
     ]
    }
   ],
   "source": [
    "print(type(my_tuple))\n",
    "print(my_tuple)"
   ]
  },
  {
   "cell_type": "code",
   "execution_count": 56,
   "id": "153d7f19-370f-4f4b-bea0-bbf5acb1f80e",
   "metadata": {},
   "outputs": [
    {
     "data": {
      "text/plain": [
       "1"
      ]
     },
     "execution_count": 56,
     "metadata": {},
     "output_type": "execute_result"
    }
   ],
   "source": [
    "# inbuilt Function\n",
    "my_tuple.count('Faryal')"
   ]
  },
  {
   "cell_type": "code",
   "execution_count": 57,
   "id": "25587750-f0b2-4f8d-a19d-a11972f745f8",
   "metadata": {},
   "outputs": [
    {
     "data": {
      "text/plain": [
       "1"
      ]
     },
     "execution_count": 57,
     "metadata": {},
     "output_type": "execute_result"
    }
   ],
   "source": [
    "my_tuple.count('Murtaza')"
   ]
  },
  {
   "cell_type": "code",
   "execution_count": null,
   "id": "8bb70c4c-5034-4c7b-a218-c402b6915fb4",
   "metadata": {},
   "outputs": [],
   "source": []
  }
 ],
 "metadata": {
  "kernelspec": {
   "display_name": "Python 3 (ipykernel)",
   "language": "python",
   "name": "python3"
  },
  "language_info": {
   "codemirror_mode": {
    "name": "ipython",
    "version": 3
   },
   "file_extension": ".py",
   "mimetype": "text/x-python",
   "name": "python",
   "nbconvert_exporter": "python",
   "pygments_lexer": "ipython3",
   "version": "3.8.0"
  }
 },
 "nbformat": 4,
 "nbformat_minor": 5
}
